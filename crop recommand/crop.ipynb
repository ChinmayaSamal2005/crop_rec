{
 "cells": [
  {
   "cell_type": "code",
   "execution_count": 3,
   "id": "b682883c-45b0-4498-8741-f28213f78c06",
   "metadata": {},
   "outputs": [
    {
     "name": "stdout",
     "output_type": "stream",
     "text": [
      "Model, scaler, and class mapping saved successfully.\n"
     ]
    }
   ],
   "source": [
    "import pandas as pd\n",
    "from sklearn.ensemble import RandomForestClassifier\n",
    "from sklearn.preprocessing import LabelEncoder, StandardScaler\n",
    "from sklearn.model_selection import train_test_split\n",
    "import joblib\n",
    "\n",
    "# Load dataset\n",
    "data = pd.read_csv('/Users/surajsamal/Desktop/Crop_recommendation.csv')  # Replace with your dataset name\n",
    "\n",
    "# Encode the target variable\n",
    "le = LabelEncoder()\n",
    "data['label'] = le.fit_transform(data['label'])\n",
    "\n",
    "# Save the mapping of crop indices to crop names\n",
    "class_mapping = dict(zip(le.transform(le.classes_), le.classes_))\n",
    "joblib.dump(class_mapping, 'class_mapping.pkl')  # Save the mapping for later use\n",
    "\n",
    "# Split data into features and target\n",
    "X = data[['N', 'P', 'K', 'temperature', 'humidity', 'ph', 'rainfall']]\n",
    "y = data['label']\n",
    "X_train, X_test, y_train, y_test = train_test_split(X, y, test_size=0.3, random_state=42)\n",
    "\n",
    "# Scale the features\n",
    "scaler = StandardScaler()\n",
    "X_train_scaled = scaler.fit_transform(X_train)\n",
    "\n",
    "# Train the model\n",
    "model = RandomForestClassifier(n_estimators=100, random_state=42)\n",
    "model.fit(X_train_scaled, y_train)\n",
    "\n",
    "# Save the scaler and model\n",
    "joblib.dump(scaler, 'scaler.pkl')\n",
    "joblib.dump(model, 'crop_recommendation_model.pkl')\n",
    "print(\"Model, scaler, and class mapping saved successfully.\")"
   ]
  },
  {
   "cell_type": "code",
   "execution_count": null,
   "id": "9e20d1f9-4343-4736-a3bb-aff978a9beaf",
   "metadata": {},
   "outputs": [],
   "source": []
  }
 ],
 "metadata": {
  "kernelspec": {
   "display_name": "Python 3 (ipykernel)",
   "language": "python",
   "name": "python3"
  },
  "language_info": {
   "codemirror_mode": {
    "name": "ipython",
    "version": 3
   },
   "file_extension": ".py",
   "mimetype": "text/x-python",
   "name": "python",
   "nbconvert_exporter": "python",
   "pygments_lexer": "ipython3",
   "version": "3.11.7"
  }
 },
 "nbformat": 4,
 "nbformat_minor": 5
}
